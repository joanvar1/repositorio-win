{
 "cells": [
  {
   "cell_type": "code",
   "execution_count": 1,
   "metadata": {},
   "outputs": [],
   "source": [
    "import os"
   ]
  },
  {
   "cell_type": "code",
   "execution_count": 1,
   "metadata": {},
   "outputs": [
    {
     "name": "stdout",
     "output_type": "stream",
     "text": [
      "Usando el metodo de Gauss Seidel con relajacion (SOR) para obtener la solucion [A]{X}={B}\n",
      "\n",
      "Numero de Ecuaciones: 3\n",
      "Numero de Cifras Significativas: 3\n",
      "Maximo Numero de Iteraciones: 10\n"
     ]
    }
   ],
   "source": [
    "print(\"Usando el metodo de Gauss Seidel con relajacion (SOR) para obtener la solucion [A]{X}={B}\")\n",
    "print(\"\")\n",
    "n=int(input(\"Numero de Ecuaciones: \"))\n",
    "cifras=int(input(\"Numero de Cifras Significativas: \"))\n",
    "imax=int(input(\"Maximo Numero de Iteraciones: \"))"
   ]
  },
  {
   "cell_type": "code",
   "execution_count": 2,
   "metadata": {},
   "outputs": [
    {
     "name": "stdout",
     "output_type": "stream",
     "text": [
      "Factor ponderado entre 0 y 2 (Lambda) : 1.2\n"
     ]
    }
   ],
   "source": [
    "lambd=float(input(\"Factor ponderado entre 0 y 2 (Lambda) : \"))"
   ]
  },
  {
   "cell_type": "code",
   "execution_count": 3,
   "metadata": {},
   "outputs": [
    {
     "name": "stdout",
     "output_type": "stream",
     "text": [
      "\n"
     ]
    }
   ],
   "source": [
    "print(\"\")\n",
    "a=[[3,-0.1,-0.2 ],[0.1,7,-0.3],[0.3,-0.2,10]]\n",
    "b=[[7.85],[-19.3],[71.4]]"
   ]
  },
  {
   "cell_type": "code",
   "execution_count": 4,
   "metadata": {},
   "outputs": [],
   "source": [
    "es=0.5*10**(2-cifras)"
   ]
  },
  {
   "cell_type": "code",
   "execution_count": 5,
   "metadata": {},
   "outputs": [],
   "source": [
    "x=[]\n",
    "for i in range(n):\n",
    "\tx.insert(i,[0.0])"
   ]
  },
  {
   "cell_type": "code",
   "execution_count": 6,
   "metadata": {
    "scrolled": true
   },
   "outputs": [
    {
     "name": "stdout",
     "output_type": "stream",
     "text": [
      "VERIFICACION DE DATOS INGRESADOS:\n",
      "--------------------------------\n",
      "A = [[3, -0.1, -0.2], [0.1, 7, -0.3], [0.3, -0.2, 10]]\n",
      "B = [[7.85], [-19.3], [71.4]]\n",
      "Inicialmente X = [[0.0], [0.0], [0.0]]\n",
      "\n",
      "Numero de Cifras Significativas : 3\n",
      "Maximo Numero de Iteracion : 10\n",
      "Factor ponderado entre 0 y 2 (Lambda) : 1.2\n",
      "--------------------------------\n",
      "\n",
      "\n",
      "SOLUCION (ITERANDO):\n",
      "-------------------\n",
      "Iteracion: 1\n",
      "i : 1\n",
      "Xi : \n",
      "[[3.14], [0.0], [0.0]]\n",
      "Error Aprox. (%) : 100.0\n",
      "\n",
      "Iteracion: 1\n",
      "i : 2\n",
      "Xi : \n",
      "[[3.14], [-3.36], [0.0]]\n",
      "Error Aprox. (%) : 100.0\n",
      "\n",
      "Iteracion: 1\n",
      "i : 3\n",
      "Xi : \n",
      "[[3.14], [-3.36], [8.37]]\n",
      "Error Aprox. (%) : 100.0\n",
      "\n",
      "Iteracion: 2\n",
      "i : 1\n",
      "Xi : \n",
      "[[3.05], [-3.36], [8.37]]\n",
      "Error Aprox. (%) : 3.03713\n",
      "\n",
      "Iteracion: 2\n",
      "i : 2\n",
      "Xi : \n",
      "[[3.05], [-2.26], [8.37]]\n",
      "Error Aprox. (%) : 48.93316\n",
      "\n",
      "Iteracion: 2\n",
      "i : 3\n",
      "Xi : \n",
      "[[3.05], [-2.26], [6.73]]\n",
      "Error Aprox. (%) : 24.4456\n",
      "\n",
      "Iteracion: 3\n",
      "i : 1\n",
      "Xi : \n",
      "[[2.98], [-2.26], [6.73]]\n",
      "Error Aprox. (%) : 2.3132\n",
      "\n",
      "Iteracion: 3\n",
      "i : 2\n",
      "Xi : \n",
      "[[2.98], [-2.56], [6.73]]\n",
      "Error Aprox. (%) : 11.87997\n",
      "\n",
      "Iteracion: 3\n",
      "i : 3\n",
      "Xi : \n",
      "[[2.98], [-2.56], [7.05]]\n",
      "Error Aprox. (%) : 4.59602\n",
      "\n",
      "Iteracion: 4\n",
      "i : 1\n",
      "Xi : \n",
      "[[3.01], [-2.56], [7.05]]\n",
      "Error Aprox. (%) : 0.91612\n",
      "\n",
      "Iteracion: 4\n",
      "i : 2\n",
      "Xi : \n",
      "[[3.01], [-2.48], [7.05]]\n",
      "Error Aprox. (%) : 3.10161\n",
      "\n",
      "Iteracion: 4\n",
      "i : 3\n",
      "Xi : \n",
      "[[3.01], [-2.48], [6.99]]\n",
      "Error Aprox. (%) : 0.91534\n",
      "\n",
      "Iteracion: 5\n",
      "i : 1\n",
      "Xi : \n",
      "[[3.0], [-2.48], [6.99]]\n",
      "Error Aprox. (%) : 0.25156\n",
      "\n",
      "Iteracion: 5\n",
      "i : 2\n",
      "Xi : \n",
      "[[3.0], [-2.5], [6.99]]\n",
      "Error Aprox. (%) : 0.74198\n",
      "\n",
      "Iteracion: 5\n",
      "i : 3\n",
      "Xi : \n",
      "[[3.0], [-2.5], [7.0]]\n",
      "Error Aprox. (%) : 0.18025\n",
      "\n",
      "Iteracion: 6\n",
      "i : 1\n",
      "Xi : \n",
      "[[3.0], [-2.5], [7.0]]\n",
      "Error Aprox. (%) : 0.05917\n",
      "\n",
      "Iteracion: 6\n",
      "i : 2\n",
      "Xi : \n",
      "[[3.0], [-2.5], [7.0]]\n",
      "Error Aprox. (%) : 0.17341\n",
      "\n",
      "Iteracion: 6\n",
      "i : 3\n",
      "Xi : \n",
      "[[3.0], [-2.5], [7.0]]\n",
      "Error Aprox. (%) : 0.03549\n",
      "\n",
      "Iteracion: 7\n",
      "i : 1\n",
      "Xi : \n",
      "[[3.0], [-2.5], [7.0]]\n",
      "Error Aprox. (%) : 0.01268\n",
      "\n",
      "Iteracion: 7\n",
      "i : 2\n",
      "Xi : \n",
      "[[3.0], [-2.5], [7.0]]\n",
      "Error Aprox. (%) : 0.03952\n",
      "\n",
      "Iteracion: 7\n",
      "i : 3\n",
      "Xi : \n",
      "[[3.0], [-2.5], [7.0]]\n",
      "Error Aprox. (%) : 0.00695\n",
      "\n",
      "\n",
      "SOLUCION FINAL (SOR):\n",
      "--------------\n",
      "X = \n",
      "[[3.0], [-2.5], [7.0]]\n"
     ]
    }
   ],
   "source": [
    "print (\"VERIFICACION DE DATOS INGRESADOS:\")\n",
    "print (\"--------------------------------\")\n",
    "print (\"A = \" + str(a))\n",
    "print (\"B = \" + str(b))\n",
    "print (\"Inicialmente X = \" + str(x))\n",
    "print (\"\")\n",
    "print (\"Numero de Cifras Significativas : \" + str(cifras))\n",
    "print (\"Maximo Numero de Iteracion : \" + str(imax))\n",
    "print (\"Factor ponderado entre 0 y 2 (Lambda) : \" + str(lambd))\n",
    "print (\"--------------------------------\")\n",
    "print (\"\")\n",
    "print (\"\")\n",
    "print (\"SOLUCION (ITERANDO):\")\n",
    "print (\"-------------------\")\n",
    "for i in range(n):\n",
    "\tdummy=a[i][i]\n",
    "\tfor j in range(n):\n",
    "\t\ta[i][j]=a[i][j]/dummy\n",
    "\tb[i][0]=b[i][0]/dummy\n",
    "    \n",
    "itera=1\n",
    "\n",
    "while True:\n",
    "\tcentinela=1\n",
    "\tfor i in range(n):\n",
    "\t\told=x[i][0]\n",
    "\t\tsuma=b[i][0]\n",
    "\t\tfor j in range(n):\n",
    "\t\t\tif i!=j:\n",
    "\t\t\t\tsuma=suma-a[i][j]*x[j][0]\n",
    "\n",
    "\t\t#x[i][0]=suma\n",
    "\t\tx[i][0]=lambd*suma+(1-lambd)*old\n",
    "\t\t\n",
    "\t\tea=abs((x[i][0]-old)/x[i][0])*100\n",
    "\t\tif ea>es:\n",
    "\t\t\tcentinela=0\n",
    "        \n",
    "\t\txfinal=[]\n",
    "\t\tfor j in range(n):\n",
    "\t\t\txfinal.insert(j,[0.0])\n",
    "\n",
    "\t\tprint (\"Iteracion: \" + str(itera))\n",
    "\t\tprint (\"i : \" + str(i+1))\n",
    "\n",
    "\t\tfor i in range(n):\n",
    "\t\t\txfinal[i][0] = round(x[i][0],2)\n",
    "\t\tprint (\"Xi : \")  \n",
    "\t\tprint (xfinal)\n",
    "\n",
    "\t\tprint (\"Error Aprox. (%) : \" + str(round(ea,5)))\n",
    "\t\tprint (\"\")\n",
    "\n",
    "\titera=itera+1\n",
    "    \n",
    "\tif centinela==1 or itera>imax:   \n",
    "\t\tbreak\n",
    "\n",
    "print (\"\")\n",
    "print (\"SOLUCION FINAL (SOR):\")\n",
    "print (\"--------------\")\n",
    "print (\"X = \")\n",
    "print (xfinal)"
   ]
  },
  {
   "cell_type": "code",
   "execution_count": null,
   "metadata": {},
   "outputs": [],
   "source": []
  },
  {
   "cell_type": "code",
   "execution_count": null,
   "metadata": {},
   "outputs": [],
   "source": []
  }
 ],
 "metadata": {
  "kernelspec": {
   "display_name": "Python 3",
   "language": "python",
   "name": "python3"
  },
  "language_info": {
   "codemirror_mode": {
    "name": "ipython",
    "version": 3
   },
   "file_extension": ".py",
   "mimetype": "text/x-python",
   "name": "python",
   "nbconvert_exporter": "python",
   "pygments_lexer": "ipython3",
   "version": "3.6.5"
  }
 },
 "nbformat": 4,
 "nbformat_minor": 2
}
